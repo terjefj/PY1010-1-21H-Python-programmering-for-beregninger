{
 "cells": [
  {
   "cell_type": "markdown",
   "metadata": {},
   "source": [
    "# Arbeidskrav 1"
   ]
  },
  {
   "cell_type": "markdown",
   "metadata": {},
   "source": [
    "<style type=\"text/css\">\n",
    ".tg  {border-collapse:collapse;border-spacing:0;}\n",
    ".tg td{border-color:black;border-style:solid;border-width:1px;font-family:Arial, sans-serif;font-size:14px;\n",
    "  overflow:hidden;padding:10px 5px;word-break:normal;}\n",
    ".tg th{border-color:black;border-style:solid;border-width:1px;font-family:Arial, sans-serif;font-size:14px;\n",
    "  font-weight:normal;overflow:hidden;padding:10px 5px;word-break:normal;}\n",
    ".tg .tg-0lax{text-align:left;vertical-align:top}\n",
    "</style>\n",
    "<table class=\"tg\">\n",
    "<thead>\n",
    "  <tr>\n",
    "    <th class=\"tg-0lax\">Type</th>\n",
    "    <th class=\"tg-0lax\">Forsikring</th>\n",
    "    <th class=\"tg-0lax\">Trafikkforsikringsavgift</th>\n",
    "    <th class=\"tg-0lax\">Drivstoffforbruk</th>\n",
    "    <th class=\"tg-0lax\">Bomavgift</th>\n",
    "  </tr>\n",
    "</thead>\n",
    "<tbody>\n",
    "  <tr>\n",
    "    <td class=\"tg-0lax\">Elbil</td>\n",
    "    <td class=\"tg-0lax\">5000 kr/år</td>\n",
    "    <td class=\"tg-0lax\">5,85 Kr/dag</td>\n",
    "    <td class=\"tg-0lax\">0,18 Kr/km</td>\n",
    "    <td class=\"tg-0lax\">0,1 Kr/km</td>\n",
    "  </tr>\n",
    "  <tr>\n",
    "    <td class=\"tg-0lax\">Bensin</td>\n",
    "    <td class=\"tg-0lax\">7000 Kr/km</td>\n",
    "    <td class=\"tg-0lax\">8,4 Kr/dag</td>\n",
    "    <td class=\"tg-0lax\">1 Kr/km</td>\n",
    "    <td class=\"tg-0lax\">0,3 Kr/km</td>\n",
    "  </tr>\n",
    "</tbody>\n",
    "</table>\n"
   ]
  },
  {
   "cell_type": "code",
   "execution_count": 9,
   "metadata": {},
   "outputs": [
    {
     "name": "stdout",
     "output_type": "stream",
     "text": [
      "Elbil kostnad pr år med kjørelengde 10 000 km: 9935.25kr\n",
      "Bensinbil kostnad pr år med kjørelengde 10 000 km: 23066.00kr\n",
      "kostnadsdifferansen mellom bensinbil og elbil blir: 13130.75kr per år for år 2021\n"
     ]
    }
   ],
   "source": [
    "\n",
    "\n",
    "#importerer biblioteker for å kontrollere om det er skuddår\n",
    "\n",
    "import calendar \n",
    "from datetime import date\n",
    "\n",
    "#finner i år og kontrollere om i år er skuddår\n",
    "\n",
    "dato =date.today()\n",
    "aar=dato.year\n",
    "skuddaar=calendar.isleap(aar)\n",
    "\n",
    "\n",
    "#Klassen bilkost som innholder alle attributene nødvendig for å beregne kost pr år\n",
    "#og funksjoner for å kalkulere kostnad og differanse for en gitt kjørelengde\n",
    "\n",
    "class bil:\n",
    "    '''Klassen bilkost som innholder alle attributene nødvendig for å beregne kost pr år\n",
    "    og funksjoner for å kalkulere kostnad og differanser for en gitt kjørelengde for en drivstofftype. \n",
    "\n",
    "    tar argumentene (\"forsikring, årsavgift, drivstoff, bom) som er: \n",
    "    forsikringskost pr år, \n",
    "    trafikkforsikringsavgift pr dag\n",
    "    drivstoff kost pr km og \n",
    "    bom kost pr km'''\n",
    "    \n",
    "    def __init__(self, forsikring, aarsavgift, forbruk, bom):\n",
    "        \n",
    "        #atributter i klassen, årsavgift regnes om til kr/år ved å gang med 366 eller 365 om det er skuddår eller ikke\n",
    "        \n",
    "        self.forsikring = forsikring\n",
    "         \n",
    "        if skuddaar:\n",
    "            self.aarsavgift = aarsavgift*366\n",
    "        else:\n",
    "            self.aarsavgift = aarsavgift*365\n",
    "        self.forbruk = forbruk\n",
    "        self.bom = bom\n",
    "    #funsjon som regner kostnad for en gitt kjørelengde        \n",
    "    def kostPerAar(self, kjoreLengde):\n",
    "        \"\"\"funksjon til klassen bilkost som tar argumentet kjorelengde i km pr år og beregner kost basert på attributer i objektet\"\"\"\n",
    "        return(((self.forsikring+self.aarsavgift+(self.forbruk*kjoreLengde)+(self.bom*kjoreLengde))))\n",
    "    \n",
    "    def differanse(self, other,kjoreLengde):\n",
    "        \"\"\"funksjon som beregner differansen mellom denne instansen og en annen for en gitt kjørelengde. \n",
    "        tar argumentene (other,kjoreLengde) som er:\n",
    "        other er ett objekt av samme klasse\n",
    "        kjøreLengde er kjørelengde i km per år det skal regnes en differanse for\"\"\"\n",
    "        \n",
    "        return (self.kostPerAar(kjoreLengde)-other.kostPerAar(kjoreLengde))\n",
    "\n",
    "#opperetter bil objektene med gitte attributter for oppgaven \n",
    "elbil = bil(5000,5.85,(0.2*0.9),0.1)\n",
    "bensinbil = bil(7000,8.4,1,0.3)\n",
    "\n",
    "\n",
    "#bruker funksjonene kostPerAar i bilkost klassen og beregner kost for elbil.\n",
    "#skriver det ut formatert til 2 desimaler med print funksjonen  \n",
    "print(\"Elbil kostnad pr år med kjørelengde 10 000 km: \" + str(format(elbil.kostPerAar(10000),'.2f'))+\"kr\")\n",
    "#bruker funksjonene kostPerAar i bilkost klassen og beregner kost for elbil \n",
    "print(\"Bensinbil kostnad pr år med kjørelengde 10 000 km: \" + str(format(bensinbil.kostPerAar(10000),'.2f'))+\"kr\")\n",
    "#bruker funksjonen kostnadsdifferanse og regner kostnads differansen for bensinbil og elbil\n",
    "print(\"kostnadsdifferansen mellom bensinbil og elbil blir: \"+ str(format((bensinbil.differanse(elbil,10000)),'.2f'))+ \"kr per år for år \"+str(aar))\n",
    "\n",
    "\n"
   ]
  },
  {
   "cell_type": "code",
   "execution_count": null,
   "metadata": {},
   "outputs": [],
   "source": []
  }
 ],
 "metadata": {
  "kernelspec": {
   "display_name": "Python 3",
   "language": "python",
   "name": "python3"
  },
  "language_info": {
   "codemirror_mode": {
    "name": "ipython",
    "version": 3
   },
   "file_extension": ".py",
   "mimetype": "text/x-python",
   "name": "python",
   "nbconvert_exporter": "python",
   "pygments_lexer": "ipython3",
   "version": "3.6.5"
  }
 },
 "nbformat": 4,
 "nbformat_minor": 2
}
